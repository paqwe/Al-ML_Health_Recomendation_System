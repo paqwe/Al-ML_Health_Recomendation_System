{
 "cells": [
  {
   "cell_type": "code",
   "execution_count": 43,
   "id": "48b80e78-8d1e-46f1-b0c0-00a12781cda9",
   "metadata": {},
   "outputs": [
    {
     "data": {
      "text/plain": [
       "'millions of people across the uk and beyond have celebrated the coronation of of king charles -a symbolic ceremony combining a religious services and pageantry. the ceremony was held at westminister abbey, with the king becoming the 40th reigning monarch to be crowned there since 1066. Queen camilla was crowned alongside him before a huge parade back to buckinghom palace.here is how the day splendour and formality which featured customs dating back more than 1,000 years unfolded'"
      ]
     },
     "execution_count": 43,
     "metadata": {},
     "output_type": "execute_result"
    }
   ],
   "source": [
    "text=\"millions of people across the uk and beyond have celebrated the coronation of of king charles -a symbolic ceremony combining a religious services and pageantry. the ceremony was held at westminister abbey, with the king becoming the 40th reigning monarch to be crowned there since 1066. Queen camilla was crowned alongside him before a huge parade back to buckinghom palace.here is how the day splendour and formality which featured customs dating back more than 1,000 years unfolded\"\n",
    "text"
   ]
  },
  {
   "cell_type": "code",
   "execution_count": null,
   "id": "1c1e7a11-4ee8-4898-b8cf-7d93440d8bbc",
   "metadata": {},
   "outputs": [],
   "source": [
    "#Segmentation"
   ]
  },
  {
   "cell_type": "code",
   "execution_count": 8,
   "id": "839ec8f5-f9ae-43da-8eaf-591df076e5c8",
   "metadata": {},
   "outputs": [
    {
     "name": "stderr",
     "output_type": "stream",
     "text": [
      "[nltk_data] Downloading package punkt to /home/prashanta/nltk_data...\n",
      "[nltk_data]   Package punkt is already up-to-date!\n"
     ]
    }
   ],
   "source": [
    "import nltk\n",
    "nltk.download('punkt')\n",
    "from nltk.tokenize import sent_tokenize"
   ]
  },
  {
   "cell_type": "code",
   "execution_count": 18,
   "id": "9a17cd3a-a092-4e1c-b729-8278c9321e0c",
   "metadata": {},
   "outputs": [
    {
     "name": "stderr",
     "output_type": "stream",
     "text": [
      "[nltk_data] Downloading package punkt_tab to\n",
      "[nltk_data]     /home/prashanta/nltk_data...\n",
      "[nltk_data]   Unzipping tokenizers/punkt_tab.zip.\n"
     ]
    },
    {
     "data": {
      "text/plain": [
       "True"
      ]
     },
     "execution_count": 18,
     "metadata": {},
     "output_type": "execute_result"
    }
   ],
   "source": [
    "import nltk\n",
    "nltk.download('punkt_tab')"
   ]
  },
  {
   "cell_type": "code",
   "execution_count": 44,
   "id": "6be9fee1-0309-4f98-bf23-25e550243187",
   "metadata": {},
   "outputs": [
    {
     "data": {
      "text/plain": [
       "['millions of people across the uk and beyond have celebrated the coronation of of king charles -a symbolic ceremony combining a religious services and pageantry.',\n",
       " 'the ceremony was held at westminister abbey, with the king becoming the 40th reigning monarch to be crowned there since 1066.',\n",
       " 'Queen camilla was crowned alongside him before a huge parade back to buckinghom palace.here is how the day splendour and formality which featured customs dating back more than 1,000 years unfolded']"
      ]
     },
     "execution_count": 44,
     "metadata": {},
     "output_type": "execute_result"
    }
   ],
   "source": [
    "#split text into sentences\n",
    "sentences=sent_tokenize(text)\n",
    "sentences"
   ]
  },
  {
   "cell_type": "code",
   "execution_count": 46,
   "id": "9738fe42-c41a-4f00-b534-6ed7f00ee439",
   "metadata": {},
   "outputs": [
    {
     "data": {
      "text/plain": [
       "'millions of people across the uk and beyond have celebrated the coronation of of king charles -a symbolic ceremony combining a religious services and pageantry.'"
      ]
     },
     "execution_count": 46,
     "metadata": {},
     "output_type": "execute_result"
    }
   ],
   "source": [
    "sentences[0]"
   ]
  },
  {
   "cell_type": "code",
   "execution_count": 22,
   "id": "7f9c699d-9006-4952-82a1-c8f559e5cc1a",
   "metadata": {},
   "outputs": [],
   "source": [
    "from nltk.tokenize import word_tokenize"
   ]
  },
  {
   "cell_type": "code",
   "execution_count": 23,
   "id": "8cef2663-b5ee-4ded-bbe0-16b3d49e620d",
   "metadata": {},
   "outputs": [],
   "source": [
    "words=word_tokenize(text)"
   ]
  },
  {
   "cell_type": "code",
   "execution_count": 25,
   "id": "93672c7a-7d62-4a4c-be5c-8f7262adface",
   "metadata": {},
   "outputs": [
    {
     "data": {
      "text/plain": [
       "'and'"
      ]
     },
     "execution_count": 25,
     "metadata": {},
     "output_type": "execute_result"
    }
   ],
   "source": [
    "words[6]"
   ]
  },
  {
   "cell_type": "code",
   "execution_count": 56,
   "id": "1f2f9a03-895a-467d-a92e-33682354eede",
   "metadata": {},
   "outputs": [
    {
     "data": {
      "text/plain": [
       "'Queen camilla was crowned alongside him before a huge parade back to buckinghom palace here is how the day splendour and formality which featured customs dating back more than 1 000 years unfolded'"
      ]
     },
     "execution_count": 56,
     "metadata": {},
     "output_type": "execute_result"
    }
   ],
   "source": [
    "#Punctuation Removal\n",
    "import re\n",
    "\n",
    "#remove punctuation character\n",
    "text=re.sub(r\"[^a-zA-Z0-9]\",\" \",sentences[2])\n",
    "text"
   ]
  },
  {
   "cell_type": "code",
   "execution_count": null,
   "id": "fb317862-01da-4249-85d7-a39b15513074",
   "metadata": {},
   "outputs": [],
   "source": [
    "#Tokenization"
   ]
  },
  {
   "cell_type": "code",
   "execution_count": 50,
   "id": "a456c604-4ffb-47bc-83d9-da1883f38eab",
   "metadata": {},
   "outputs": [],
   "source": [
    "from nltk.tokenize import word_tokenize"
   ]
  },
  {
   "cell_type": "code",
   "execution_count": 57,
   "id": "85b2cc48-bf0b-4de7-84a3-fde0ac19a4ca",
   "metadata": {},
   "outputs": [
    {
     "name": "stdout",
     "output_type": "stream",
     "text": [
      "['Queen', 'camilla', 'was', 'crowned', 'alongside', 'him', 'before', 'a', 'huge', 'parade', 'back', 'to', 'buckinghom', 'palace', 'here', 'is', 'how', 'the', 'day', 'splendour', 'and', 'formality', 'which', 'featured', 'customs', 'dating', 'back', 'more', 'than', '1', '000', 'years', 'unfolded']\n"
     ]
    }
   ],
   "source": [
    "words=word_tokenize(text)\n",
    "print(words)"
   ]
  },
  {
   "cell_type": "code",
   "execution_count": 58,
   "id": "17837815-067a-4c91-9001-ef790a3f08c4",
   "metadata": {},
   "outputs": [
    {
     "name": "stderr",
     "output_type": "stream",
     "text": [
      "[nltk_data] Downloading package stopwords to\n",
      "[nltk_data]     /home/prashanta/nltk_data...\n",
      "[nltk_data]   Package stopwords is already up-to-date!\n"
     ]
    },
    {
     "data": {
      "text/plain": [
       "True"
      ]
     },
     "execution_count": 58,
     "metadata": {},
     "output_type": "execute_result"
    }
   ],
   "source": [
    "nltk.download(\"stopwords\")"
   ]
  },
  {
   "cell_type": "code",
   "execution_count": 59,
   "id": "a6142c70-ff40-4e0b-b8fa-8112623acf33",
   "metadata": {},
   "outputs": [],
   "source": [
    "from nltk.corpus import stopwords"
   ]
  },
  {
   "cell_type": "code",
   "execution_count": 31,
   "id": "97f3752f-318f-49b2-b3bc-9026039128ba",
   "metadata": {},
   "outputs": [
    {
     "name": "stdout",
     "output_type": "stream",
     "text": [
      "['millions', 'people', 'across', 'uk', 'beyond', 'celebrated', 'coronation', 'king', 'charles', '-a', 'symbolic', 'ceremony', 'combining', 'religious', 'services', 'pageantry', '.', 'ceremony', 'held', 'westminister', 'abbey', ';', 'king', 'becoming', '40th', 'reigning', 'monarch', 'crowned', 'since', '1066']\n"
     ]
    }
   ],
   "source": [
    "#Remove stopwords\n",
    "words=[w for w in words if w not in stopwords.words(\"english\")]\n",
    "print(words)"
   ]
  },
  {
   "cell_type": "code",
   "execution_count": 33,
   "id": "41eaacfd-92de-4273-a7da-b1f7df5e0812",
   "metadata": {},
   "outputs": [
    {
     "name": "stdout",
     "output_type": "stream",
     "text": [
      "['i', 'me', 'my', 'myself', 'we', 'our', 'ours', 'ourselves', 'you', \"you're\", \"you've\", \"you'll\", \"you'd\", 'your', 'yours', 'yourself', 'yourselves', 'he', 'him', 'his', 'himself', 'she', \"she's\", 'her', 'hers', 'herself', 'it', \"it's\", 'its', 'itself', 'they', 'them', 'their', 'theirs', 'themselves', 'what', 'which', 'who', 'whom', 'this', 'that', \"that'll\", 'these', 'those', 'am', 'is', 'are', 'was', 'were', 'be', 'been', 'being', 'have', 'has', 'had', 'having', 'do', 'does', 'did', 'doing', 'a', 'an', 'the', 'and', 'but', 'if', 'or', 'because', 'as', 'until', 'while', 'of', 'at', 'by', 'for', 'with', 'about', 'against', 'between', 'into', 'through', 'during', 'before', 'after', 'above', 'below', 'to', 'from', 'up', 'down', 'in', 'out', 'on', 'off', 'over', 'under', 'again', 'further', 'then', 'once', 'here', 'there', 'when', 'where', 'why', 'how', 'all', 'any', 'both', 'each', 'few', 'more', 'most', 'other', 'some', 'such', 'no', 'nor', 'not', 'only', 'own', 'same', 'so', 'than', 'too', 'very', 's', 't', 'can', 'will', 'just', 'don', \"don't\", 'should', \"should've\", 'now', 'd', 'll', 'm', 'o', 're', 've', 'y', 'ain', 'aren', \"aren't\", 'couldn', \"couldn't\", 'didn', \"didn't\", 'doesn', \"doesn't\", 'hadn', \"hadn't\", 'hasn', \"hasn't\", 'haven', \"haven't\", 'isn', \"isn't\", 'ma', 'mightn', \"mightn't\", 'mustn', \"mustn't\", 'needn', \"needn't\", 'shan', \"shan't\", 'shouldn', \"shouldn't\", 'wasn', \"wasn't\", 'weren', \"weren't\", 'won', \"won't\", 'wouldn', \"wouldn't\"]\n"
     ]
    }
   ],
   "source": [
    "print(stopwords.words(\"english\"))"
   ]
  },
  {
   "cell_type": "code",
   "execution_count": null,
   "id": "a4026584-16c9-4faa-95a7-efc1f42ade13",
   "metadata": {},
   "outputs": [],
   "source": [
    "# stemmimg and lemmatization"
   ]
  },
  {
   "cell_type": "code",
   "execution_count": 34,
   "id": "0f1ef311-b29b-486a-aca6-4bf616fe3013",
   "metadata": {},
   "outputs": [
    {
     "name": "stderr",
     "output_type": "stream",
     "text": [
      "[nltk_data] Downloading package wordnet to\n",
      "[nltk_data]     /home/prashanta/nltk_data...\n",
      "[nltk_data] Downloading package omw-1.4 to\n",
      "[nltk_data]     /home/prashanta/nltk_data...\n"
     ]
    },
    {
     "data": {
      "text/plain": [
       "True"
      ]
     },
     "execution_count": 34,
     "metadata": {},
     "output_type": "execute_result"
    }
   ],
   "source": [
    "nltk.download('wordnet')\n",
    "nltk.download('omw-1.4')"
   ]
  },
  {
   "cell_type": "code",
   "execution_count": 35,
   "id": "088106a7-fcd0-4762-b61f-1af7cad2773e",
   "metadata": {},
   "outputs": [
    {
     "name": "stdout",
     "output_type": "stream",
     "text": [
      "['million', 'peopl', 'across', 'uk', 'beyond', 'celebr', 'coron', 'king', 'charl', '-a', 'symbol', 'ceremoni', 'combin', 'religi', 'servic', 'pageantri', '.', 'ceremoni', 'held', 'westminist', 'abbey', ';', 'king', 'becom', '40th', 'reign', 'monarch', 'crown', 'sinc', '1066']\n"
     ]
    }
   ],
   "source": [
    "#stemming\n",
    "from nltk.stem.porter import PorterStemmer\n",
    "\n",
    "#Reduce words to their stems\n",
    "stemmed=[PorterStemmer().stem(w)for w in words]\n",
    "print(stemmed)"
   ]
  },
  {
   "cell_type": "code",
   "execution_count": 60,
   "id": "7d21e71e-a846-483c-b1db-e972a6c79c70",
   "metadata": {},
   "outputs": [
    {
     "name": "stdout",
     "output_type": "stream",
     "text": [
      "['Queen', 'camilla', 'wa', 'crowned', 'alongside', 'him', 'before', 'a', 'huge', 'parade', 'back', 'to', 'buckinghom', 'palace', 'here', 'is', 'how', 'the', 'day', 'splendour', 'and', 'formality', 'which', 'featured', 'custom', 'dating', 'back', 'more', 'than', '1', '000', 'year', 'unfolded']\n"
     ]
    }
   ],
   "source": [
    "#lemmatize\n",
    "from nltk.stem.wordnet import WordNetLemmatizer\n",
    "\n",
    "#Reduce words to their root form\n",
    "lemmatized = [WordNetLemmatizer().lemmatize(w) for w in words]\n",
    "print(lemmatized)"
   ]
  },
  {
   "cell_type": "code",
   "execution_count": null,
   "id": "7478df00-219b-40ca-9c3b-67705f42c602",
   "metadata": {},
   "outputs": [],
   "source": [
    "#Part of speech tagging"
   ]
  },
  {
   "cell_type": "code",
   "execution_count": 65,
   "id": "966654d6-e607-4061-9f9e-4ad4a4695a3d",
   "metadata": {},
   "outputs": [
    {
     "name": "stderr",
     "output_type": "stream",
     "text": [
      "[nltk_data] Downloading package averaged_perceptron_tagger_eng to\n",
      "[nltk_data]     /home/prashanta/nltk_data...\n",
      "[nltk_data]   Package averaged_perceptron_tagger_eng is already up-to-\n",
      "[nltk_data]       date!\n",
      "[nltk_data] Downloading package maxent_ne_chunker to\n",
      "[nltk_data]     /home/prashanta/nltk_data...\n",
      "[nltk_data]   Package maxent_ne_chunker is already up-to-date!\n"
     ]
    },
    {
     "data": {
      "text/plain": [
       "True"
      ]
     },
     "execution_count": 65,
     "metadata": {},
     "output_type": "execute_result"
    }
   ],
   "source": [
    "import nltk\n",
    "nltk.download('averaged_perceptron_tagger_eng')\n",
    "nltk.download('maxent_ne_chunker')"
   ]
  },
  {
   "cell_type": "code",
   "execution_count": 67,
   "id": "8716aa00-3cbc-42e0-9bd5-dbe9753913f2",
   "metadata": {},
   "outputs": [],
   "source": [
    "from nltk import pos_tag"
   ]
  },
  {
   "cell_type": "code",
   "execution_count": 68,
   "id": "eb17c90c-57b7-4e84-b354-8d4a006c973b",
   "metadata": {},
   "outputs": [
    {
     "data": {
      "text/plain": [
       "[('Queen', 'NNP'),\n",
       " ('camilla', 'NN'),\n",
       " ('was', 'VBD'),\n",
       " ('crowned', 'VBN'),\n",
       " ('alongside', 'RB'),\n",
       " ('him', 'PRP'),\n",
       " ('before', 'IN'),\n",
       " ('a', 'DT'),\n",
       " ('huge', 'JJ'),\n",
       " ('parade', 'NN'),\n",
       " ('back', 'RB'),\n",
       " ('to', 'TO'),\n",
       " ('buckinghom', 'VB'),\n",
       " ('palace', 'NN'),\n",
       " ('here', 'RB'),\n",
       " ('is', 'VBZ'),\n",
       " ('how', 'WRB'),\n",
       " ('the', 'DT'),\n",
       " ('day', 'NN'),\n",
       " ('splendour', 'NN'),\n",
       " ('and', 'CC'),\n",
       " ('formality', 'NN'),\n",
       " ('which', 'WDT'),\n",
       " ('featured', 'VBD'),\n",
       " ('customs', 'NNS'),\n",
       " ('dating', 'VBG'),\n",
       " ('back', 'RB'),\n",
       " ('more', 'JJR'),\n",
       " ('than', 'IN'),\n",
       " ('1', 'CD'),\n",
       " ('000', 'CD'),\n",
       " ('years', 'NNS'),\n",
       " ('unfolded', 'VBD')]"
      ]
     },
     "execution_count": 68,
     "metadata": {},
     "output_type": "execute_result"
    }
   ],
   "source": [
    "#tag each word with part of speech\n",
    "pos_tag(words)"
   ]
  },
  {
   "cell_type": "code",
   "execution_count": null,
   "id": "e6e511b8-8ebe-4871-aa0d-74087c9c9434",
   "metadata": {},
   "outputs": [],
   "source": [
    "#Named entity recognition"
   ]
  },
  {
   "cell_type": "code",
   "execution_count": 73,
   "id": "651ddf73-2423-4fcc-ae59-b283cca53cde",
   "metadata": {},
   "outputs": [
    {
     "name": "stderr",
     "output_type": "stream",
     "text": [
      "[nltk_data] Downloading package words to /home/prashanta/nltk_data...\n",
      "[nltk_data]   Unzipping corpora/words.zip.\n"
     ]
    },
    {
     "data": {
      "text/plain": [
       "True"
      ]
     },
     "execution_count": 73,
     "metadata": {},
     "output_type": "execute_result"
    }
   ],
   "source": [
    "from nltk import ne_chunk\n",
    "nltk.download('words')"
   ]
  },
  {
   "cell_type": "code",
   "execution_count": 75,
   "id": "6ea17012-7175-4596-a53d-e83ea624fc21",
   "metadata": {},
   "outputs": [
    {
     "name": "stderr",
     "output_type": "stream",
     "text": [
      "[nltk_data] Downloading package maxent_ne_chunker_tab to\n",
      "[nltk_data]     /home/prashanta/nltk_data...\n",
      "[nltk_data]   Unzipping chunkers/maxent_ne_chunker_tab.zip.\n"
     ]
    },
    {
     "data": {
      "text/plain": [
       "True"
      ]
     },
     "execution_count": 75,
     "metadata": {},
     "output_type": "execute_result"
    }
   ],
   "source": [
    "import nltk\n",
    "nltk.download('maxent_ne_chunker_tab')"
   ]
  },
  {
   "cell_type": "code",
   "execution_count": 76,
   "id": "e01a6235-c487-4b1a-8136-935a8015a4ff",
   "metadata": {},
   "outputs": [
    {
     "name": "stdout",
     "output_type": "stream",
     "text": [
      "(S\n",
      "  (GPE Queen/NNP)\n",
      "  camilla/NN\n",
      "  was/VBD\n",
      "  crowned/VBN\n",
      "  alongside/RB\n",
      "  him/PRP\n",
      "  before/IN\n",
      "  a/DT\n",
      "  huge/JJ\n",
      "  parade/NN\n",
      "  back/RB\n",
      "  to/TO\n",
      "  buckinghom/VB\n",
      "  palace.here/RB\n",
      "  is/VBZ\n",
      "  how/WRB\n",
      "  the/DT\n",
      "  day/NN\n",
      "  splendour/NN\n",
      "  and/CC\n",
      "  formality/NN\n",
      "  which/WDT\n",
      "  featured/VBD\n",
      "  customs/NNS\n",
      "  dating/VBG\n",
      "  back/RB\n",
      "  more/JJR\n",
      "  than/IN\n",
      "  1,000/CD\n",
      "  years/NNS\n",
      "  unfolded/VBD)\n"
     ]
    }
   ],
   "source": [
    "ner_tree = ne_chunk(pos_tag(word_tokenize(sentences[2])))\n",
    "print(ner_tree)"
   ]
  },
  {
   "cell_type": "code",
   "execution_count": null,
   "id": "7704c490-f487-4681-bb9a-1bc9ccb1b881",
   "metadata": {},
   "outputs": [],
   "source": []
  }
 ],
 "metadata": {
  "kernelspec": {
   "display_name": "Python 3 (ipykernel)",
   "language": "python",
   "name": "python3"
  },
  "language_info": {
   "codemirror_mode": {
    "name": "ipython",
    "version": 3
   },
   "file_extension": ".py",
   "mimetype": "text/x-python",
   "name": "python",
   "nbconvert_exporter": "python",
   "pygments_lexer": "ipython3",
   "version": "3.10.12"
  }
 },
 "nbformat": 4,
 "nbformat_minor": 5
}
